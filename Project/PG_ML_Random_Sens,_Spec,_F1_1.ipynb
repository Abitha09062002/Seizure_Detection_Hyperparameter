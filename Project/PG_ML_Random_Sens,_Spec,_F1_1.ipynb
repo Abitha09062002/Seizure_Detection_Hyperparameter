{
  "nbformat": 4,
  "nbformat_minor": 0,
  "metadata": {
    "colab": {
      "provenance": [],
      "include_colab_link": true
    },
    "kernelspec": {
      "name": "python3",
      "display_name": "Python 3"
    },
    "language_info": {
      "name": "python"
    }
  },
  "cells": [
    {
      "cell_type": "markdown",
      "metadata": {
        "id": "view-in-github",
        "colab_type": "text"
      },
      "source": [
        "<a href=\"https://colab.research.google.com/github/Abitha09062002/Seizure_Detection_Hyperparameter/blob/main/Project/PG_ML_Random_Sens%2C_Spec%2C_F1_1.ipynb\" target=\"_parent\"><img src=\"https://colab.research.google.com/assets/colab-badge.svg\" alt=\"Open In Colab\"/></a>"
      ]
    },
    {
      "cell_type": "code",
      "metadata": {
        "id": "g9lsn8m4BOTz"
      },
      "source": [
        "import numpy as np\n",
        "import matplotlib.pyplot as plt\n",
        "import pandas as pd\n",
        "from sklearn.model_selection import train_test_split"
      ],
      "execution_count": null,
      "outputs": []
    },
    {
      "cell_type": "code",
      "metadata": {
        "colab": {
          "base_uri": "https://localhost:8080/"
        },
        "id": "i9AKBbbaBiqA",
        "outputId": "c29d6424-7bed-4440-9c14-d9dd5285f6ca"
      },
      "source": [
        "d1=pd.read_csv('/content/drive/MyDrive/dataset-org.csv',header=None)\n",
        "print(d1)"
      ],
      "execution_count": null,
      "outputs": [
        {
          "output_type": "stream",
          "name": "stdout",
          "text": [
            "       0    1    2    3    4    5    6    7    8    9    ...  169  170  171  \\\n",
            "0      135  190  229  223  192  125   55   -9  -33  -38  ...  -17  -15  -31   \n",
            "1      386  382  356  331  320  315  307  272  244  232  ...  164  150  146   \n",
            "2      -32  -39  -47  -37  -32  -36  -57  -73  -85  -94  ...   57   64   48   \n",
            "3     -105 -101  -96  -92  -89  -95 -102 -100  -87  -79  ...  -82  -81  -80   \n",
            "4       -9  -65  -98 -102  -78  -48  -16    0  -21  -59  ...    4    2  -12   \n",
            "...    ...  ...  ...  ...  ...  ...  ...  ...  ...  ...  ...  ...  ...  ...   \n",
            "11495  -22  -22  -23  -26  -36  -42  -45  -42  -45  -49  ...   15   16   12   \n",
            "11496  -47  -11   28   77  141  211  246  240  193  136  ...  -65  -33   -7   \n",
            "11497   14    6  -13  -16   10   26   27   -9    4   14  ...  -65  -48  -61   \n",
            "11498  -40  -25   -9  -12   -2   12    7   19   22   29  ...  121  135  148   \n",
            "11499   29   41   57   72   74   62   54   43   31   23  ...  -59  -25   -4   \n",
            "\n",
            "       172  173  174  175  176  177  178  \n",
            "0      -77 -103 -127 -116  -83  -51    0  \n",
            "1      152  157  156  154  143  129    1  \n",
            "2       19  -12  -30  -35  -35  -36    0  \n",
            "3      -77  -85  -77  -72  -69  -65    0  \n",
            "4      -32  -41  -65  -83  -89  -73    0  \n",
            "...    ...  ...  ...  ...  ...  ...  ...  \n",
            "11495    5   -1  -18  -37  -47  -48    0  \n",
            "11496   14   27   48   77  117  170    1  \n",
            "11497  -62  -67  -30   -2   -1   -8    0  \n",
            "11498  143  116   86   68   59   55    0  \n",
            "11499    2    5    4   -2    2   20    0  \n",
            "\n",
            "[11500 rows x 179 columns]\n"
          ]
        }
      ]
    },
    {
      "cell_type": "code",
      "metadata": {
        "id": "Euh6WUmnDUP6"
      },
      "source": [
        "X=pd.DataFrame(d1.iloc[:,:-1].values)\n",
        "Y=d1.iloc[:,-1].values"
      ],
      "execution_count": null,
      "outputs": []
    },
    {
      "cell_type": "code",
      "metadata": {
        "id": "8DhFnpQTDiBx"
      },
      "source": [
        "X_train, X_test, Y_train, Y_test = train_test_split(X,Y, test_size=0.2, random_state = 0 )"
      ],
      "execution_count": null,
      "outputs": []
    },
    {
      "cell_type": "code",
      "metadata": {
        "colab": {
          "base_uri": "https://localhost:8080/"
        },
        "id": "MeTO2bMDDntl",
        "outputId": "ad65c09d-f5d3-4233-dabe-1cc85ddc29c3"
      },
      "source": [
        "print(X_train)"
      ],
      "execution_count": null,
      "outputs": [
        {
          "output_type": "stream",
          "name": "stdout",
          "text": [
            "       0    1    2    3    4    5    6    7    8    9    ...  168  169  170  \\\n",
            "5979    10   18   37   32   28   28   43   56   64   53  ...   72   57   31   \n",
            "4731    22   23   16    8   -5  -11  -10    5   16   25  ...  -42   -8   40   \n",
            "6406   -18  -12   -8   -7   -2    4    9   21   31   37  ...   11    1  -15   \n",
            "8207   180  211  260  390  518  616  588  443  273  117  ...  -62  -67  -75   \n",
            "1592    16  -13  -25  -14   11   34   51   34    2  -28  ...   11  -15  -21   \n",
            "...    ...  ...  ...  ...  ...  ...  ...  ...  ...  ...  ...  ...  ...  ...   \n",
            "4859   -33  -33  -38  -40  -38  -30  -38  -36  -37  -40  ...  -22  -24  -29   \n",
            "3264   -13  -10  -15  -19  -26  -24  -35  -39  -42  -54  ...  -37  -52  -65   \n",
            "9845    18   20   26   28   31   29   28   19   13    0  ...  -39  -35  -37   \n",
            "10799  285  282  311  361  427  478  577  634  448    6  ...  274  249  249   \n",
            "2732  -118   55  272  439  475  404  266  146   45  -29  ...  -79  -93 -134   \n",
            "\n",
            "       171  172  173  174  175  176  177  \n",
            "5979     5  -10  -30  -44  -41  -35  -39  \n",
            "4731    91  120  139  132  116   92   76  \n",
            "6406   -29  -47  -54  -62  -62  -61  -61  \n",
            "8207   -79  -82  -90  -98  -98 -105 -117  \n",
            "1592   -11   14   41   55   47   21   -2  \n",
            "...    ...  ...  ...  ...  ...  ...  ...  \n",
            "4859   -29  -35  -28  -27  -22  -21  -12  \n",
            "3264   -74  -73  -72  -60  -44  -38  -37  \n",
            "9845   -34  -39  -38  -41  -44  -42  -36  \n",
            "10799  258  241  206  106  -22 -173 -308  \n",
            "2732  -201 -297 -409 -520 -554 -502 -375  \n",
            "\n",
            "[9200 rows x 178 columns]\n"
          ]
        }
      ]
    },
    {
      "cell_type": "code",
      "metadata": {
        "colab": {
          "base_uri": "https://localhost:8080/"
        },
        "id": "zF3pg45QDtFK",
        "outputId": "4c4569c0-07d4-4816-f554-8401152adb4b"
      },
      "source": [
        "print(X_test)"
      ],
      "execution_count": null,
      "outputs": [
        {
          "output_type": "stream",
          "name": "stdout",
          "text": [
            "       0    1    2    3    4    5    6    7    8    9    ...  168  169  170  \\\n",
            "4313   -16   -3  -16  -13  -11   -6   23   38   46   53  ...  102  100   92   \n",
            "4340   154  144  132  115   98   79   60   43   22    2  ... -230  -38  139   \n",
            "10982    3    1    3   -3   -5   -7   -8   -4  -10   -9  ...    0   -2    5   \n",
            "7986   -32  -30  -33  -28  -33  -32  -35  -40  -41  -44  ...  -18  -10  -11   \n",
            "6263  -124 -123 -103 -102 -108  -74   -4   32   69   86  ...  -28  -15  -22   \n",
            "...    ...  ...  ...  ...  ...  ...  ...  ...  ...  ...  ...  ...  ...  ...   \n",
            "11070  -16   10   29   23    0  -18  -48  -50  -61  -71  ...   30    4   13   \n",
            "7920   -36  -30  -21  -16  -16  -23  -23  -31  -40  -52  ...  -47  -51  -60   \n",
            "2081   -29  -46  -48  -43  -33  -22  -25  -22  -33  -33  ...  -81  -80  -69   \n",
            "5257   -40  -69  -84  -80  -64  -38  -21   13   47   74  ...   64   59   50   \n",
            "3750  -394 -520 -592 -589 -530 -445 -366 -260 -123    5  ...  280  270  232   \n",
            "\n",
            "       171  172  173  174  175  176  177  \n",
            "4313    79   53   12   -9  -16  -12  -12  \n",
            "4340   246  182  -18 -239 -401 -437 -357  \n",
            "10982    8   10   14   18   19   14   12  \n",
            "7986   -14  -14  -17  -16  -13  -10   -9  \n",
            "6263    -7   57  115  146  151  116   34  \n",
            "...    ...  ...  ...  ...  ...  ...  ...  \n",
            "11070    7    8   11    7    3  -14  -32  \n",
            "7920   -71  -79  -90  -97  -99  -94  -89  \n",
            "2081   -65  -54  -32   -8   20   39   43  \n",
            "5257    47   41   49   65   82  100  108  \n",
            "3750   141    9 -156 -341 -526 -632 -620  \n",
            "\n",
            "[2300 rows x 178 columns]\n"
          ]
        }
      ]
    },
    {
      "cell_type": "code",
      "metadata": {
        "colab": {
          "base_uri": "https://localhost:8080/"
        },
        "id": "iynDBQsxDyM-",
        "outputId": "1ff65488-cd12-4345-f22a-39cc7c8f3441"
      },
      "source": [
        "print(Y_train)"
      ],
      "execution_count": null,
      "outputs": [
        {
          "output_type": "stream",
          "name": "stdout",
          "text": [
            "[0 0 0 ... 0 1 1]\n"
          ]
        }
      ]
    },
    {
      "cell_type": "code",
      "metadata": {
        "colab": {
          "base_uri": "https://localhost:8080/"
        },
        "id": "h1REadBBD2bq",
        "outputId": "77ed6337-41e4-46e0-c0ad-97a95d926146"
      },
      "source": [
        "print(Y_test)"
      ],
      "execution_count": null,
      "outputs": [
        {
          "output_type": "stream",
          "name": "stdout",
          "text": [
            "[0 1 0 ... 0 0 1]\n"
          ]
        }
      ]
    },
    {
      "cell_type": "code",
      "metadata": {
        "id": "v0IArrgmD75C"
      },
      "source": [
        "from sklearn.preprocessing import StandardScaler\n",
        "sc = StandardScaler()\n",
        "X_train = sc.fit_transform(X_train)\n",
        "X_test = sc.transform(X_test)"
      ],
      "execution_count": null,
      "outputs": []
    },
    {
      "cell_type": "code",
      "metadata": {
        "id": "gzDeKo-YEEiV"
      },
      "source": [
        "import tensorflow as tf"
      ],
      "execution_count": null,
      "outputs": []
    },
    {
      "cell_type": "code",
      "metadata": {
        "id": "f3_kW_03EOAe"
      },
      "source": [
        "import keras  as ke"
      ],
      "execution_count": null,
      "outputs": []
    },
    {
      "cell_type": "code",
      "metadata": {
        "id": "5KrmfFVcEUpx"
      },
      "source": [
        "from keras.models import Sequential\n",
        "from keras.layers import Dense"
      ],
      "execution_count": null,
      "outputs": []
    },
    {
      "cell_type": "code",
      "metadata": {
        "id": "6On2D5ILEZIw"
      },
      "source": [
        "classifier = Sequential()"
      ],
      "execution_count": null,
      "outputs": []
    },
    {
      "cell_type": "code",
      "metadata": {
        "id": "7zaJxVQuEeWH"
      },
      "source": [
        "classifier.add(Dense(units= 100, kernel_initializer = 'uniform', activation = 'relu', input_dim = 178))"
      ],
      "execution_count": null,
      "outputs": []
    },
    {
      "cell_type": "code",
      "metadata": {
        "id": "O0vCHJd5EkFo"
      },
      "source": [
        "classifier.add(Dense(units = 100,kernel_initializer = 'uniform', activation = 'relu'))"
      ],
      "execution_count": null,
      "outputs": []
    },
    {
      "cell_type": "code",
      "metadata": {
        "id": "2pQIh27uEqM4"
      },
      "source": [
        "classifier.add(Dense(units = 1,kernel_initializer   = 'uniform', activation = 'sigmoid'))"
      ],
      "execution_count": null,
      "outputs": []
    },
    {
      "cell_type": "code",
      "metadata": {
        "id": "kp7mVJi9EvvZ"
      },
      "source": [
        "classifier.compile(optimizer = 'sgd', loss = 'binary_crossentropy', metrics = ['accuracy'])"
      ],
      "execution_count": null,
      "outputs": []
    },
    {
      "cell_type": "code",
      "metadata": {
        "colab": {
          "base_uri": "https://localhost:8080/"
        },
        "id": "wxtXuERhE3or",
        "outputId": "57c1af1f-251d-4335-dd0e-5b9d74924ade"
      },
      "source": [
        "classifier.fit(X_train, Y_train, batch_size = 10, epochs = 30)"
      ],
      "execution_count": null,
      "outputs": [
        {
          "output_type": "stream",
          "name": "stdout",
          "text": [
            "Epoch 1/30\n",
            "920/920 [==============================] - 2s 2ms/step - loss: 0.4919 - accuracy: 0.8280\n",
            "Epoch 2/30\n",
            "920/920 [==============================] - 2s 2ms/step - loss: 0.2393 - accuracy: 0.9382\n",
            "Epoch 3/30\n",
            "920/920 [==============================] - 2s 2ms/step - loss: 0.1545 - accuracy: 0.9564\n",
            "Epoch 4/30\n",
            "920/920 [==============================] - 1s 2ms/step - loss: 0.1207 - accuracy: 0.9649\n",
            "Epoch 5/30\n",
            "920/920 [==============================] - 1s 2ms/step - loss: 0.1024 - accuracy: 0.9674\n",
            "Epoch 6/30\n",
            "920/920 [==============================] - 1s 2ms/step - loss: 0.0912 - accuracy: 0.9705\n",
            "Epoch 7/30\n",
            "920/920 [==============================] - 1s 2ms/step - loss: 0.0836 - accuracy: 0.9726\n",
            "Epoch 8/30\n",
            "920/920 [==============================] - 1s 2ms/step - loss: 0.0795 - accuracy: 0.9752\n",
            "Epoch 9/30\n",
            "920/920 [==============================] - 2s 2ms/step - loss: 0.0734 - accuracy: 0.9763\n",
            "Epoch 10/30\n",
            "920/920 [==============================] - 2s 2ms/step - loss: 0.0710 - accuracy: 0.9777\n",
            "Epoch 11/30\n",
            "920/920 [==============================] - 2s 2ms/step - loss: 0.0688 - accuracy: 0.9772\n",
            "Epoch 12/30\n",
            "920/920 [==============================] - 2s 2ms/step - loss: 0.0651 - accuracy: 0.9790\n",
            "Epoch 13/30\n",
            "920/920 [==============================] - 2s 2ms/step - loss: 0.0639 - accuracy: 0.9796\n",
            "Epoch 14/30\n",
            "920/920 [==============================] - 2s 2ms/step - loss: 0.0601 - accuracy: 0.9802\n",
            "Epoch 15/30\n",
            "920/920 [==============================] - 2s 2ms/step - loss: 0.0584 - accuracy: 0.9812\n",
            "Epoch 16/30\n",
            "920/920 [==============================] - 2s 2ms/step - loss: 0.0567 - accuracy: 0.9816\n",
            "Epoch 17/30\n",
            "920/920 [==============================] - 2s 2ms/step - loss: 0.0554 - accuracy: 0.9815\n",
            "Epoch 18/30\n",
            "920/920 [==============================] - 2s 2ms/step - loss: 0.0517 - accuracy: 0.9832\n",
            "Epoch 19/30\n",
            "920/920 [==============================] - 2s 2ms/step - loss: 0.0507 - accuracy: 0.9838\n",
            "Epoch 20/30\n",
            "920/920 [==============================] - 2s 2ms/step - loss: 0.0494 - accuracy: 0.9838\n",
            "Epoch 21/30\n",
            "920/920 [==============================] - 2s 2ms/step - loss: 0.0459 - accuracy: 0.9860\n",
            "Epoch 22/30\n",
            "920/920 [==============================] - 2s 2ms/step - loss: 0.0469 - accuracy: 0.9863\n",
            "Epoch 23/30\n",
            "920/920 [==============================] - 2s 2ms/step - loss: 0.0442 - accuracy: 0.9863\n",
            "Epoch 24/30\n",
            "920/920 [==============================] - 2s 2ms/step - loss: 0.0426 - accuracy: 0.9868\n",
            "Epoch 25/30\n",
            "920/920 [==============================] - 2s 2ms/step - loss: 0.0409 - accuracy: 0.9873\n",
            "Epoch 26/30\n",
            "920/920 [==============================] - 1s 2ms/step - loss: 0.0408 - accuracy: 0.9876\n",
            "Epoch 27/30\n",
            "920/920 [==============================] - 1s 2ms/step - loss: 0.0365 - accuracy: 0.9886\n",
            "Epoch 28/30\n",
            "920/920 [==============================] - 2s 2ms/step - loss: 0.0381 - accuracy: 0.9892\n",
            "Epoch 29/30\n",
            "920/920 [==============================] - 2s 2ms/step - loss: 0.0390 - accuracy: 0.9887\n",
            "Epoch 30/30\n",
            "920/920 [==============================] - 2s 2ms/step - loss: 0.0377 - accuracy: 0.9892\n"
          ]
        },
        {
          "output_type": "execute_result",
          "data": {
            "text/plain": [
              "<keras.callbacks.History at 0x7f8faed92a90>"
            ]
          },
          "metadata": {},
          "execution_count": 67
        }
      ]
    },
    {
      "cell_type": "code",
      "metadata": {
        "id": "wuEoLjrIHYga"
      },
      "source": [
        "y_pred = classifier.predict(X_test)\n",
        "y_pred = (y_pred > 0.5)"
      ],
      "execution_count": null,
      "outputs": []
    },
    {
      "cell_type": "code",
      "metadata": {
        "id": "R0eJcXDbHaTC",
        "colab": {
          "base_uri": "https://localhost:8080/"
        },
        "outputId": "5cb34a79-c407-48b3-b0b2-776c0d63691e"
      },
      "source": [
        "y_pred"
      ],
      "execution_count": null,
      "outputs": [
        {
          "output_type": "execute_result",
          "data": {
            "text/plain": [
              "array([[False],\n",
              "       [ True],\n",
              "       [False],\n",
              "       ...,\n",
              "       [False],\n",
              "       [False],\n",
              "       [ True]])"
            ]
          },
          "metadata": {},
          "execution_count": 69
        }
      ]
    },
    {
      "cell_type": "code",
      "metadata": {
        "id": "5WXRiDmqHfL5",
        "colab": {
          "base_uri": "https://localhost:8080/"
        },
        "outputId": "d6e1b394-0607-423b-80b0-733d4dfd997b"
      },
      "source": [
        "from sklearn.metrics import confusion_matrix, accuracy_score\n",
        "cm = confusion_matrix(Y_test, y_pred)\n",
        "print(cm)\n",
        "accuracy_score(Y_test,y_pred)"
      ],
      "execution_count": null,
      "outputs": [
        {
          "output_type": "stream",
          "name": "stdout",
          "text": [
            "[[1838   16]\n",
            " [  31  415]]\n"
          ]
        },
        {
          "output_type": "execute_result",
          "data": {
            "text/plain": [
              "0.9795652173913043"
            ]
          },
          "metadata": {},
          "execution_count": 70
        }
      ]
    },
    {
      "cell_type": "code",
      "source": [
        "sensitivity1=(1836/(1836+18))\n",
        "print(sensitivity1)"
      ],
      "metadata": {
        "colab": {
          "base_uri": "https://localhost:8080/"
        },
        "id": "bkN_jO-QLglv",
        "outputId": "516adccd-8c9c-4427-dde7-1b1ea40362f0"
      },
      "execution_count": null,
      "outputs": [
        {
          "output_type": "stream",
          "name": "stdout",
          "text": [
            "0.9902912621359223\n"
          ]
        }
      ]
    },
    {
      "cell_type": "code",
      "source": [
        "specificity1=(411/(411+35))\n",
        "print(specificity1)"
      ],
      "metadata": {
        "id": "-5TeAmcgRyN3",
        "colab": {
          "base_uri": "https://localhost:8080/"
        },
        "outputId": "90bd678f-92be-4418-d837-43c13caba0a8"
      },
      "execution_count": null,
      "outputs": [
        {
          "output_type": "stream",
          "name": "stdout",
          "text": [
            "0.92152466367713\n"
          ]
        }
      ]
    },
    {
      "cell_type": "code",
      "source": [
        "#precision=(TP/(TP+FP))\n",
        "precision1=(1836/(1836+18))\n",
        "print(precision1)"
      ],
      "metadata": {
        "colab": {
          "base_uri": "https://localhost:8080/"
        },
        "id": "uo6bUnggSGMx",
        "outputId": "dbcd1e61-582f-492b-e353-f5dfbd8ec468"
      },
      "execution_count": null,
      "outputs": [
        {
          "output_type": "stream",
          "name": "stdout",
          "text": [
            "0.9902912621359223\n"
          ]
        }
      ]
    },
    {
      "cell_type": "code",
      "source": [
        "#recall=(TP/(TP+FN))\n",
        "recall1=(1836/(1836+35))\n",
        "print(recall1)"
      ],
      "metadata": {
        "colab": {
          "base_uri": "https://localhost:8080/"
        },
        "id": "hLY1bBFhSqC4",
        "outputId": "03b1db2a-c8d4-4bb1-bea8-b44e02e8b351"
      },
      "execution_count": null,
      "outputs": [
        {
          "output_type": "stream",
          "name": "stdout",
          "text": [
            "0.9812934259754142\n"
          ]
        }
      ]
    },
    {
      "cell_type": "code",
      "source": [
        "F1Score=2*(precision1*recall1/(precision1+recall1))\n",
        "print(F1Score)"
      ],
      "metadata": {
        "id": "1nfluiy5TGNG",
        "outputId": "83b02cbe-02af-44f8-dec7-24b253f69845",
        "colab": {
          "base_uri": "https://localhost:8080/"
        }
      },
      "execution_count": null,
      "outputs": [
        {
          "output_type": "stream",
          "name": "stdout",
          "text": [
            "0.985771812080537\n"
          ]
        }
      ]
    }
  ]
}