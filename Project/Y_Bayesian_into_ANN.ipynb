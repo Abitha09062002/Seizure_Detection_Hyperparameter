{
  "nbformat": 4,
  "nbformat_minor": 0,
  "metadata": {
    "colab": {
      "provenance": [],
      "include_colab_link": true
    },
    "kernelspec": {
      "name": "python3",
      "display_name": "Python 3"
    },
    "language_info": {
      "name": "python"
    }
  },
  "cells": [
    {
      "cell_type": "markdown",
      "metadata": {
        "id": "view-in-github",
        "colab_type": "text"
      },
      "source": [
        "<a href=\"https://colab.research.google.com/github/Abitha09062002/Seizure_Detection_Hyperparameter/blob/main/Project/Y_Bayesian_into_ANN.ipynb\" target=\"_parent\"><img src=\"https://colab.research.google.com/assets/colab-badge.svg\" alt=\"Open In Colab\"/></a>"
      ]
    },
    {
      "cell_type": "code",
      "metadata": {
        "colab": {
          "base_uri": "https://localhost:8080/"
        },
        "id": "-9tvzp6WAFsF",
        "outputId": "a6cbfa8c-a941-400b-9293-39b56885ca06"
      },
      "source": [
        "from google.colab import drive\n",
        "\n",
        "drive.mount('/content/gdrive')"
      ],
      "execution_count": null,
      "outputs": [
        {
          "output_type": "stream",
          "name": "stdout",
          "text": [
            "Mounted at /content/gdrive\n"
          ]
        }
      ]
    },
    {
      "cell_type": "code",
      "metadata": {
        "id": "g9lsn8m4BOTz"
      },
      "source": [
        "import numpy as np\n",
        "import matplotlib.pyplot as plt\n",
        "import pandas as pd\n",
        "from sklearn.model_selection import train_test_split"
      ],
      "execution_count": null,
      "outputs": []
    },
    {
      "cell_type": "code",
      "metadata": {
        "colab": {
          "base_uri": "https://localhost:8080/"
        },
        "id": "i9AKBbbaBiqA",
        "outputId": "3beafb2a-0de3-410c-a9e5-2dc27a4e2570"
      },
      "source": [
        "d1=pd.read_csv('/content/drive/MyDrive/dataset-org.csv',header=None)\n",
        "print(d1)"
      ],
      "execution_count": null,
      "outputs": [
        {
          "output_type": "stream",
          "name": "stdout",
          "text": [
            "       0    1    2    3    4    5    6    7    8    9    ...  169  170  171  \\\n",
            "0      135  190  229  223  192  125   55   -9  -33  -38  ...  -17  -15  -31   \n",
            "1      386  382  356  331  320  315  307  272  244  232  ...  164  150  146   \n",
            "2      -32  -39  -47  -37  -32  -36  -57  -73  -85  -94  ...   57   64   48   \n",
            "3     -105 -101  -96  -92  -89  -95 -102 -100  -87  -79  ...  -82  -81  -80   \n",
            "4       -9  -65  -98 -102  -78  -48  -16    0  -21  -59  ...    4    2  -12   \n",
            "...    ...  ...  ...  ...  ...  ...  ...  ...  ...  ...  ...  ...  ...  ...   \n",
            "11495  -22  -22  -23  -26  -36  -42  -45  -42  -45  -49  ...   15   16   12   \n",
            "11496  -47  -11   28   77  141  211  246  240  193  136  ...  -65  -33   -7   \n",
            "11497   14    6  -13  -16   10   26   27   -9    4   14  ...  -65  -48  -61   \n",
            "11498  -40  -25   -9  -12   -2   12    7   19   22   29  ...  121  135  148   \n",
            "11499   29   41   57   72   74   62   54   43   31   23  ...  -59  -25   -4   \n",
            "\n",
            "       172  173  174  175  176  177  178  \n",
            "0      -77 -103 -127 -116  -83  -51    0  \n",
            "1      152  157  156  154  143  129    1  \n",
            "2       19  -12  -30  -35  -35  -36    0  \n",
            "3      -77  -85  -77  -72  -69  -65    0  \n",
            "4      -32  -41  -65  -83  -89  -73    0  \n",
            "...    ...  ...  ...  ...  ...  ...  ...  \n",
            "11495    5   -1  -18  -37  -47  -48    0  \n",
            "11496   14   27   48   77  117  170    1  \n",
            "11497  -62  -67  -30   -2   -1   -8    0  \n",
            "11498  143  116   86   68   59   55    0  \n",
            "11499    2    5    4   -2    2   20    0  \n",
            "\n",
            "[11500 rows x 179 columns]\n"
          ]
        }
      ]
    },
    {
      "cell_type": "code",
      "metadata": {
        "id": "Euh6WUmnDUP6"
      },
      "source": [
        "X=pd.DataFrame(d1.iloc[:,:-1].values)\n",
        "Y=d1.iloc[:,-1].values"
      ],
      "execution_count": null,
      "outputs": []
    },
    {
      "cell_type": "code",
      "metadata": {
        "id": "8DhFnpQTDiBx"
      },
      "source": [
        "X_train, X_test, Y_train, Y_test = train_test_split(X,Y, test_size=0.2, random_state = 0 )"
      ],
      "execution_count": null,
      "outputs": []
    },
    {
      "cell_type": "code",
      "metadata": {
        "colab": {
          "base_uri": "https://localhost:8080/"
        },
        "id": "MeTO2bMDDntl",
        "outputId": "a15e12f6-54c4-4d70-9ea4-6f447bbc5687"
      },
      "source": [
        "print(X_train)"
      ],
      "execution_count": null,
      "outputs": [
        {
          "output_type": "stream",
          "name": "stdout",
          "text": [
            "       0    1    2    3    4    5    6    7    8    9    ...  168  169  170  \\\n",
            "5979    10   18   37   32   28   28   43   56   64   53  ...   72   57   31   \n",
            "4731    22   23   16    8   -5  -11  -10    5   16   25  ...  -42   -8   40   \n",
            "6406   -18  -12   -8   -7   -2    4    9   21   31   37  ...   11    1  -15   \n",
            "8207   180  211  260  390  518  616  588  443  273  117  ...  -62  -67  -75   \n",
            "1592    16  -13  -25  -14   11   34   51   34    2  -28  ...   11  -15  -21   \n",
            "...    ...  ...  ...  ...  ...  ...  ...  ...  ...  ...  ...  ...  ...  ...   \n",
            "4859   -33  -33  -38  -40  -38  -30  -38  -36  -37  -40  ...  -22  -24  -29   \n",
            "3264   -13  -10  -15  -19  -26  -24  -35  -39  -42  -54  ...  -37  -52  -65   \n",
            "9845    18   20   26   28   31   29   28   19   13    0  ...  -39  -35  -37   \n",
            "10799  285  282  311  361  427  478  577  634  448    6  ...  274  249  249   \n",
            "2732  -118   55  272  439  475  404  266  146   45  -29  ...  -79  -93 -134   \n",
            "\n",
            "       171  172  173  174  175  176  177  \n",
            "5979     5  -10  -30  -44  -41  -35  -39  \n",
            "4731    91  120  139  132  116   92   76  \n",
            "6406   -29  -47  -54  -62  -62  -61  -61  \n",
            "8207   -79  -82  -90  -98  -98 -105 -117  \n",
            "1592   -11   14   41   55   47   21   -2  \n",
            "...    ...  ...  ...  ...  ...  ...  ...  \n",
            "4859   -29  -35  -28  -27  -22  -21  -12  \n",
            "3264   -74  -73  -72  -60  -44  -38  -37  \n",
            "9845   -34  -39  -38  -41  -44  -42  -36  \n",
            "10799  258  241  206  106  -22 -173 -308  \n",
            "2732  -201 -297 -409 -520 -554 -502 -375  \n",
            "\n",
            "[9200 rows x 178 columns]\n"
          ]
        }
      ]
    },
    {
      "cell_type": "code",
      "metadata": {
        "colab": {
          "base_uri": "https://localhost:8080/"
        },
        "id": "zF3pg45QDtFK",
        "outputId": "cc2be339-2294-4cbd-de7e-73e9de043ea6"
      },
      "source": [
        "print(X_test)"
      ],
      "execution_count": null,
      "outputs": [
        {
          "output_type": "stream",
          "name": "stdout",
          "text": [
            "       0    1    2    3    4    5    6    7    8    9    ...  168  169  170  \\\n",
            "4313   -16   -3  -16  -13  -11   -6   23   38   46   53  ...  102  100   92   \n",
            "4340   154  144  132  115   98   79   60   43   22    2  ... -230  -38  139   \n",
            "10982    3    1    3   -3   -5   -7   -8   -4  -10   -9  ...    0   -2    5   \n",
            "7986   -32  -30  -33  -28  -33  -32  -35  -40  -41  -44  ...  -18  -10  -11   \n",
            "6263  -124 -123 -103 -102 -108  -74   -4   32   69   86  ...  -28  -15  -22   \n",
            "...    ...  ...  ...  ...  ...  ...  ...  ...  ...  ...  ...  ...  ...  ...   \n",
            "11070  -16   10   29   23    0  -18  -48  -50  -61  -71  ...   30    4   13   \n",
            "7920   -36  -30  -21  -16  -16  -23  -23  -31  -40  -52  ...  -47  -51  -60   \n",
            "2081   -29  -46  -48  -43  -33  -22  -25  -22  -33  -33  ...  -81  -80  -69   \n",
            "5257   -40  -69  -84  -80  -64  -38  -21   13   47   74  ...   64   59   50   \n",
            "3750  -394 -520 -592 -589 -530 -445 -366 -260 -123    5  ...  280  270  232   \n",
            "\n",
            "       171  172  173  174  175  176  177  \n",
            "4313    79   53   12   -9  -16  -12  -12  \n",
            "4340   246  182  -18 -239 -401 -437 -357  \n",
            "10982    8   10   14   18   19   14   12  \n",
            "7986   -14  -14  -17  -16  -13  -10   -9  \n",
            "6263    -7   57  115  146  151  116   34  \n",
            "...    ...  ...  ...  ...  ...  ...  ...  \n",
            "11070    7    8   11    7    3  -14  -32  \n",
            "7920   -71  -79  -90  -97  -99  -94  -89  \n",
            "2081   -65  -54  -32   -8   20   39   43  \n",
            "5257    47   41   49   65   82  100  108  \n",
            "3750   141    9 -156 -341 -526 -632 -620  \n",
            "\n",
            "[2300 rows x 178 columns]\n"
          ]
        }
      ]
    },
    {
      "cell_type": "code",
      "metadata": {
        "colab": {
          "base_uri": "https://localhost:8080/"
        },
        "id": "iynDBQsxDyM-",
        "outputId": "7529e8da-23e6-417b-d4fa-f32e934bf50d"
      },
      "source": [
        "print(Y_train)"
      ],
      "execution_count": null,
      "outputs": [
        {
          "output_type": "stream",
          "name": "stdout",
          "text": [
            "[0 0 0 ... 0 1 1]\n"
          ]
        }
      ]
    },
    {
      "cell_type": "code",
      "metadata": {
        "colab": {
          "base_uri": "https://localhost:8080/"
        },
        "id": "h1REadBBD2bq",
        "outputId": "e7510fad-44de-492e-ae06-241f9c129db0"
      },
      "source": [
        "print(Y_test)"
      ],
      "execution_count": null,
      "outputs": [
        {
          "output_type": "stream",
          "name": "stdout",
          "text": [
            "[0 1 0 ... 0 0 1]\n"
          ]
        }
      ]
    },
    {
      "cell_type": "code",
      "metadata": {
        "id": "v0IArrgmD75C"
      },
      "source": [
        "from sklearn.preprocessing import StandardScaler\n",
        "sc = StandardScaler()\n",
        "X_train = sc.fit_transform(X_train)\n",
        "X_test = sc.transform(X_test)"
      ],
      "execution_count": null,
      "outputs": []
    },
    {
      "cell_type": "code",
      "metadata": {
        "id": "gzDeKo-YEEiV"
      },
      "source": [
        "import tensorflow as tf"
      ],
      "execution_count": null,
      "outputs": []
    },
    {
      "cell_type": "code",
      "metadata": {
        "id": "f3_kW_03EOAe"
      },
      "source": [
        "import keras  as ke"
      ],
      "execution_count": null,
      "outputs": []
    },
    {
      "cell_type": "code",
      "metadata": {
        "id": "5KrmfFVcEUpx"
      },
      "source": [
        "from keras.models import Sequential\n",
        "from keras.layers import Dense"
      ],
      "execution_count": null,
      "outputs": []
    },
    {
      "cell_type": "code",
      "metadata": {
        "id": "6On2D5ILEZIw"
      },
      "source": [
        "classifier = Sequential()"
      ],
      "execution_count": null,
      "outputs": []
    },
    {
      "cell_type": "code",
      "metadata": {
        "id": "7zaJxVQuEeWH"
      },
      "source": [
        "classifier.add(Dense(units= 100, kernel_initializer = 'uniform', activation = 'relu', input_dim = 178))"
      ],
      "execution_count": null,
      "outputs": []
    },
    {
      "cell_type": "code",
      "metadata": {
        "id": "O0vCHJd5EkFo"
      },
      "source": [
        "classifier.add(Dense(units = 100,kernel_initializer = 'uniform', activation = 'relu'))"
      ],
      "execution_count": null,
      "outputs": []
    },
    {
      "cell_type": "code",
      "metadata": {
        "id": "2pQIh27uEqM4"
      },
      "source": [
        "classifier.add(Dense(units = 1,kernel_initializer   = 'uniform', activation = 'sigmoid'))"
      ],
      "execution_count": null,
      "outputs": []
    },
    {
      "cell_type": "code",
      "metadata": {
        "id": "kp7mVJi9EvvZ"
      },
      "source": [
        "classifier.compile(optimizer = 'adam', loss = 'binary_crossentropy', metrics = ['accuracy'])"
      ],
      "execution_count": null,
      "outputs": []
    },
    {
      "cell_type": "code",
      "metadata": {
        "colab": {
          "base_uri": "https://localhost:8080/"
        },
        "id": "wxtXuERhE3or",
        "outputId": "f66af694-cee7-49df-8e59-9fafc187b1a5"
      },
      "source": [
        "classifier.fit(X_train, Y_train, batch_size = 200, epochs = 100)"
      ],
      "execution_count": null,
      "outputs": [
        {
          "output_type": "stream",
          "name": "stdout",
          "text": [
            "Epoch 1/100\n",
            "46/46 [==============================] - 1s 4ms/step - loss: 0.5379 - accuracy: 0.9085\n",
            "Epoch 2/100\n",
            "46/46 [==============================] - 0s 4ms/step - loss: 0.2432 - accuracy: 0.9480\n",
            "Epoch 3/100\n",
            "46/46 [==============================] - 0s 4ms/step - loss: 0.1320 - accuracy: 0.9692\n",
            "Epoch 4/100\n",
            "46/46 [==============================] - 0s 3ms/step - loss: 0.0957 - accuracy: 0.9729\n",
            "Epoch 5/100\n",
            "46/46 [==============================] - 0s 4ms/step - loss: 0.0780 - accuracy: 0.9764\n",
            "Epoch 6/100\n",
            "46/46 [==============================] - 0s 3ms/step - loss: 0.0608 - accuracy: 0.9811\n",
            "Epoch 7/100\n",
            "46/46 [==============================] - 0s 3ms/step - loss: 0.0555 - accuracy: 0.9842\n",
            "Epoch 8/100\n",
            "46/46 [==============================] - 0s 4ms/step - loss: 0.0563 - accuracy: 0.9824\n",
            "Epoch 9/100\n",
            "46/46 [==============================] - 0s 3ms/step - loss: 0.0436 - accuracy: 0.9852\n",
            "Epoch 10/100\n",
            "46/46 [==============================] - 0s 4ms/step - loss: 0.0454 - accuracy: 0.9855\n",
            "Epoch 11/100\n",
            "46/46 [==============================] - 0s 4ms/step - loss: 0.0416 - accuracy: 0.9877\n",
            "Epoch 12/100\n",
            "46/46 [==============================] - 0s 3ms/step - loss: 0.0407 - accuracy: 0.9877\n",
            "Epoch 13/100\n",
            "46/46 [==============================] - 0s 3ms/step - loss: 0.0339 - accuracy: 0.9895\n",
            "Epoch 14/100\n",
            "46/46 [==============================] - 0s 3ms/step - loss: 0.0295 - accuracy: 0.9917\n",
            "Epoch 15/100\n",
            "46/46 [==============================] - 0s 3ms/step - loss: 0.0246 - accuracy: 0.9930\n",
            "Epoch 16/100\n",
            "46/46 [==============================] - 0s 3ms/step - loss: 0.0256 - accuracy: 0.9918\n",
            "Epoch 17/100\n",
            "46/46 [==============================] - 0s 4ms/step - loss: 0.0249 - accuracy: 0.9927\n",
            "Epoch 18/100\n",
            "46/46 [==============================] - 0s 4ms/step - loss: 0.0286 - accuracy: 0.9898\n",
            "Epoch 19/100\n",
            "46/46 [==============================] - 0s 3ms/step - loss: 0.0262 - accuracy: 0.9922\n",
            "Epoch 20/100\n",
            "46/46 [==============================] - 0s 4ms/step - loss: 0.0187 - accuracy: 0.9939\n",
            "Epoch 21/100\n",
            "46/46 [==============================] - 0s 3ms/step - loss: 0.0173 - accuracy: 0.9960\n",
            "Epoch 22/100\n",
            "46/46 [==============================] - 0s 4ms/step - loss: 0.0167 - accuracy: 0.9953\n",
            "Epoch 23/100\n",
            "46/46 [==============================] - 0s 4ms/step - loss: 0.0260 - accuracy: 0.9929\n",
            "Epoch 24/100\n",
            "46/46 [==============================] - 0s 3ms/step - loss: 0.0291 - accuracy: 0.9917\n",
            "Epoch 25/100\n",
            "46/46 [==============================] - 0s 3ms/step - loss: 0.0231 - accuracy: 0.9929\n",
            "Epoch 26/100\n",
            "46/46 [==============================] - 0s 3ms/step - loss: 0.0156 - accuracy: 0.9957\n",
            "Epoch 27/100\n",
            "46/46 [==============================] - 0s 3ms/step - loss: 0.0124 - accuracy: 0.9967\n",
            "Epoch 28/100\n",
            "46/46 [==============================] - 0s 3ms/step - loss: 0.0214 - accuracy: 0.9939\n",
            "Epoch 29/100\n",
            "46/46 [==============================] - 0s 4ms/step - loss: 0.0128 - accuracy: 0.9964\n",
            "Epoch 30/100\n",
            "46/46 [==============================] - 0s 3ms/step - loss: 0.0138 - accuracy: 0.9961\n",
            "Epoch 31/100\n",
            "46/46 [==============================] - 0s 3ms/step - loss: 0.0108 - accuracy: 0.9976\n",
            "Epoch 32/100\n",
            "46/46 [==============================] - 0s 4ms/step - loss: 0.0107 - accuracy: 0.9976\n",
            "Epoch 33/100\n",
            "46/46 [==============================] - 0s 4ms/step - loss: 0.0093 - accuracy: 0.9976\n",
            "Epoch 34/100\n",
            "46/46 [==============================] - 0s 4ms/step - loss: 0.0067 - accuracy: 0.9990\n",
            "Epoch 35/100\n",
            "46/46 [==============================] - 0s 4ms/step - loss: 0.0051 - accuracy: 0.9992\n",
            "Epoch 36/100\n",
            "46/46 [==============================] - 0s 4ms/step - loss: 0.0077 - accuracy: 0.9980\n",
            "Epoch 37/100\n",
            "46/46 [==============================] - 0s 4ms/step - loss: 0.0121 - accuracy: 0.9966\n",
            "Epoch 38/100\n",
            "46/46 [==============================] - 0s 3ms/step - loss: 0.0239 - accuracy: 0.9932\n",
            "Epoch 39/100\n",
            "46/46 [==============================] - 0s 3ms/step - loss: 0.0337 - accuracy: 0.9915\n",
            "Epoch 40/100\n",
            "46/46 [==============================] - 0s 3ms/step - loss: 0.0324 - accuracy: 0.9921\n",
            "Epoch 41/100\n",
            "46/46 [==============================] - 0s 4ms/step - loss: 0.0158 - accuracy: 0.9953\n",
            "Epoch 42/100\n",
            "46/46 [==============================] - 0s 3ms/step - loss: 0.0138 - accuracy: 0.9963\n",
            "Epoch 43/100\n",
            "46/46 [==============================] - 0s 3ms/step - loss: 0.0114 - accuracy: 0.9975\n",
            "Epoch 44/100\n",
            "46/46 [==============================] - 0s 3ms/step - loss: 0.0112 - accuracy: 0.9978\n",
            "Epoch 45/100\n",
            "46/46 [==============================] - 0s 3ms/step - loss: 0.0071 - accuracy: 0.9985\n",
            "Epoch 46/100\n",
            "46/46 [==============================] - 0s 3ms/step - loss: 0.0046 - accuracy: 0.9995\n",
            "Epoch 47/100\n",
            "46/46 [==============================] - 0s 3ms/step - loss: 0.0040 - accuracy: 0.9996\n",
            "Epoch 48/100\n",
            "46/46 [==============================] - 0s 4ms/step - loss: 0.0038 - accuracy: 0.9996\n",
            "Epoch 49/100\n",
            "46/46 [==============================] - 0s 4ms/step - loss: 0.0028 - accuracy: 0.9998\n",
            "Epoch 50/100\n",
            "46/46 [==============================] - 0s 3ms/step - loss: 0.0029 - accuracy: 0.9997\n",
            "Epoch 51/100\n",
            "46/46 [==============================] - 0s 3ms/step - loss: 0.0034 - accuracy: 0.9993\n",
            "Epoch 52/100\n",
            "46/46 [==============================] - 0s 3ms/step - loss: 0.0039 - accuracy: 0.9988\n",
            "Epoch 53/100\n",
            "46/46 [==============================] - 0s 4ms/step - loss: 0.0058 - accuracy: 0.9985\n",
            "Epoch 54/100\n",
            "46/46 [==============================] - 0s 4ms/step - loss: 0.0172 - accuracy: 0.9947\n",
            "Epoch 55/100\n",
            "46/46 [==============================] - 0s 3ms/step - loss: 0.0195 - accuracy: 0.9949\n",
            "Epoch 56/100\n",
            "46/46 [==============================] - 0s 3ms/step - loss: 0.0160 - accuracy: 0.9966\n",
            "Epoch 57/100\n",
            "46/46 [==============================] - 0s 3ms/step - loss: 0.0143 - accuracy: 0.9958\n",
            "Epoch 58/100\n",
            "46/46 [==============================] - 0s 3ms/step - loss: 0.0080 - accuracy: 0.9974\n",
            "Epoch 59/100\n",
            "46/46 [==============================] - 0s 4ms/step - loss: 0.0089 - accuracy: 0.9985\n",
            "Epoch 60/100\n",
            "46/46 [==============================] - 0s 3ms/step - loss: 0.0131 - accuracy: 0.9963\n",
            "Epoch 61/100\n",
            "46/46 [==============================] - 0s 4ms/step - loss: 0.0062 - accuracy: 0.9987\n",
            "Epoch 62/100\n",
            "46/46 [==============================] - 0s 3ms/step - loss: 0.0076 - accuracy: 0.9983\n",
            "Epoch 63/100\n",
            "46/46 [==============================] - 0s 3ms/step - loss: 0.0046 - accuracy: 0.9990\n",
            "Epoch 64/100\n",
            "46/46 [==============================] - 0s 3ms/step - loss: 0.0024 - accuracy: 0.9997\n",
            "Epoch 65/100\n",
            "46/46 [==============================] - 0s 4ms/step - loss: 0.0021 - accuracy: 0.9997\n",
            "Epoch 66/100\n",
            "46/46 [==============================] - 0s 4ms/step - loss: 0.0016 - accuracy: 0.9998\n",
            "Epoch 67/100\n",
            "46/46 [==============================] - 0s 3ms/step - loss: 0.0014 - accuracy: 0.9998\n",
            "Epoch 68/100\n",
            "46/46 [==============================] - 0s 3ms/step - loss: 0.0013 - accuracy: 0.9998\n",
            "Epoch 69/100\n",
            "46/46 [==============================] - 0s 3ms/step - loss: 0.0011 - accuracy: 0.9998\n",
            "Epoch 70/100\n",
            "46/46 [==============================] - 0s 3ms/step - loss: 9.0169e-04 - accuracy: 0.9999\n",
            "Epoch 71/100\n",
            "46/46 [==============================] - 0s 4ms/step - loss: 0.0010 - accuracy: 0.9997\n",
            "Epoch 72/100\n",
            "46/46 [==============================] - 0s 3ms/step - loss: 0.0019 - accuracy: 0.9997\n",
            "Epoch 73/100\n",
            "46/46 [==============================] - 0s 4ms/step - loss: 9.6987e-04 - accuracy: 0.9998\n",
            "Epoch 74/100\n",
            "46/46 [==============================] - 0s 4ms/step - loss: 7.1291e-04 - accuracy: 0.9998\n",
            "Epoch 75/100\n",
            "46/46 [==============================] - 0s 3ms/step - loss: 0.0011 - accuracy: 0.9999\n",
            "Epoch 76/100\n",
            "46/46 [==============================] - 0s 4ms/step - loss: 9.9167e-04 - accuracy: 0.9999\n",
            "Epoch 77/100\n",
            "46/46 [==============================] - 0s 3ms/step - loss: 0.0022 - accuracy: 0.9995\n",
            "Epoch 78/100\n",
            "46/46 [==============================] - 0s 4ms/step - loss: 0.0324 - accuracy: 0.9939\n",
            "Epoch 79/100\n",
            "46/46 [==============================] - 0s 3ms/step - loss: 0.0446 - accuracy: 0.9891\n",
            "Epoch 80/100\n",
            "46/46 [==============================] - 0s 3ms/step - loss: 0.0514 - accuracy: 0.9878\n",
            "Epoch 81/100\n",
            "46/46 [==============================] - 0s 3ms/step - loss: 0.0152 - accuracy: 0.9955\n",
            "Epoch 82/100\n",
            "46/46 [==============================] - 0s 3ms/step - loss: 0.0055 - accuracy: 0.9987\n",
            "Epoch 83/100\n",
            "46/46 [==============================] - 0s 4ms/step - loss: 0.0046 - accuracy: 0.9989\n",
            "Epoch 84/100\n",
            "46/46 [==============================] - 0s 4ms/step - loss: 0.0030 - accuracy: 0.9995\n",
            "Epoch 85/100\n",
            "46/46 [==============================] - 0s 3ms/step - loss: 0.0053 - accuracy: 0.9987\n",
            "Epoch 86/100\n",
            "46/46 [==============================] - 0s 3ms/step - loss: 0.0027 - accuracy: 0.9997\n",
            "Epoch 87/100\n",
            "46/46 [==============================] - 0s 3ms/step - loss: 0.0016 - accuracy: 0.9997\n",
            "Epoch 88/100\n",
            "46/46 [==============================] - 0s 3ms/step - loss: 0.0013 - accuracy: 0.9998\n",
            "Epoch 89/100\n",
            "46/46 [==============================] - 0s 3ms/step - loss: 0.0011 - accuracy: 0.9999\n",
            "Epoch 90/100\n",
            "46/46 [==============================] - 0s 3ms/step - loss: 9.4915e-04 - accuracy: 0.9999\n",
            "Epoch 91/100\n",
            "46/46 [==============================] - 0s 4ms/step - loss: 8.3581e-04 - accuracy: 0.9999\n",
            "Epoch 92/100\n",
            "46/46 [==============================] - 0s 3ms/step - loss: 7.9810e-04 - accuracy: 0.9998\n",
            "Epoch 93/100\n",
            "46/46 [==============================] - 0s 4ms/step - loss: 6.2483e-04 - accuracy: 1.0000\n",
            "Epoch 94/100\n",
            "46/46 [==============================] - 0s 3ms/step - loss: 6.4574e-04 - accuracy: 0.9999\n",
            "Epoch 95/100\n",
            "46/46 [==============================] - 0s 4ms/step - loss: 6.2691e-04 - accuracy: 0.9999\n",
            "Epoch 96/100\n",
            "46/46 [==============================] - 0s 4ms/step - loss: 4.5715e-04 - accuracy: 1.0000\n",
            "Epoch 97/100\n",
            "46/46 [==============================] - 0s 4ms/step - loss: 4.2137e-04 - accuracy: 1.0000\n",
            "Epoch 98/100\n",
            "46/46 [==============================] - 0s 4ms/step - loss: 4.0006e-04 - accuracy: 1.0000\n",
            "Epoch 99/100\n",
            "46/46 [==============================] - 0s 3ms/step - loss: 3.6532e-04 - accuracy: 1.0000\n",
            "Epoch 100/100\n",
            "46/46 [==============================] - 0s 4ms/step - loss: 3.4470e-04 - accuracy: 1.0000\n"
          ]
        },
        {
          "output_type": "execute_result",
          "data": {
            "text/plain": [
              "<keras.callbacks.History at 0x7f484ac192d0>"
            ]
          },
          "metadata": {},
          "execution_count": 26
        }
      ]
    },
    {
      "cell_type": "code",
      "metadata": {
        "id": "wuEoLjrIHYga"
      },
      "source": [
        "y_pred = classifier.predict(X_test)\n",
        "y_pred = (y_pred > 0.5)"
      ],
      "execution_count": null,
      "outputs": []
    },
    {
      "cell_type": "code",
      "metadata": {
        "id": "R0eJcXDbHaTC",
        "colab": {
          "base_uri": "https://localhost:8080/"
        },
        "outputId": "3cf60fcd-399a-4124-edad-9d93b4b56f14"
      },
      "source": [
        "y_pred"
      ],
      "execution_count": null,
      "outputs": [
        {
          "output_type": "execute_result",
          "data": {
            "text/plain": [
              "array([[False],\n",
              "       [ True],\n",
              "       [False],\n",
              "       ...,\n",
              "       [False],\n",
              "       [False],\n",
              "       [ True]])"
            ]
          },
          "metadata": {},
          "execution_count": 28
        }
      ]
    },
    {
      "cell_type": "code",
      "metadata": {
        "id": "5WXRiDmqHfL5",
        "colab": {
          "base_uri": "https://localhost:8080/"
        },
        "outputId": "df193527-dd9a-473f-e6bd-e127e5205bbf"
      },
      "source": [
        "from sklearn.metrics import confusion_matrix, accuracy_score\n",
        "cm = confusion_matrix(Y_test, y_pred)\n",
        "print(cm)\n",
        "accuracy_score(Y_test,y_pred)"
      ],
      "execution_count": null,
      "outputs": [
        {
          "output_type": "stream",
          "name": "stdout",
          "text": [
            "[[1833   21]\n",
            " [  41  405]]\n"
          ]
        },
        {
          "output_type": "execute_result",
          "data": {
            "text/plain": [
              "0.9730434782608696"
            ]
          },
          "metadata": {},
          "execution_count": 29
        }
      ]
    }
  ]
}